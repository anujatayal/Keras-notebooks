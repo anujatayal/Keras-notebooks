{
 "cells": [
  {
   "cell_type": "code",
   "execution_count": 6,
   "id": "f66f3aba",
   "metadata": {},
   "outputs": [],
   "source": [
    "import numpy\n",
    "import tensorflow as tf\n",
    "from tensorflow import keras\n",
    "from keras.models import Sequential\n",
    "\n",
    "from keras.layers import Input"
   ]
  },
  {
   "cell_type": "code",
   "execution_count": 3,
   "id": "d2900a0f",
   "metadata": {},
   "outputs": [],
   "source": [
    "from tensorflow.keras.datasets import mnist  \n",
    "(x_train_full, y_train_full), (x_test, y_test) = mnist.load_data()\n"
   ]
  },
  {
   "cell_type": "code",
   "execution_count": 5,
   "id": "1aac1674",
   "metadata": {},
   "outputs": [],
   "source": [
    "X_valid, X_train = x_train_full[:5000] / 255.0, x_train_full[5000:] / 255.0\n",
    "y_valid, y_train = y_train_full[:5000], y_train_full[5000:]"
   ]
  },
  {
   "cell_type": "code",
   "execution_count": 7,
   "id": "5f8d9671",
   "metadata": {},
   "outputs": [],
   "source": [
    "model = keras.models.Sequential()\n",
    "\n",
    "model.add(keras.layers.Flatten(input_shape=[28, 28]))\n",
    "model.add(keras.layers.Dense(256, activation=\"relu\"))\n",
    "model.add(keras.layers.Dense(128, activation=\"relu\"))\n",
    "model.add(keras.layers.Dense(10, activation=\"softmax\"))"
   ]
  },
  {
   "cell_type": "code",
   "execution_count": 8,
   "id": "a3de264f",
   "metadata": {},
   "outputs": [
    {
     "name": "stdout",
     "output_type": "stream",
     "text": [
      "Model: \"sequential\"\n",
      "_________________________________________________________________\n",
      "Layer (type)                 Output Shape              Param #   \n",
      "=================================================================\n",
      "flatten (Flatten)            (None, 784)               0         \n",
      "_________________________________________________________________\n",
      "dense (Dense)                (None, 256)               200960    \n",
      "_________________________________________________________________\n",
      "dense_1 (Dense)              (None, 128)               32896     \n",
      "_________________________________________________________________\n",
      "dense_2 (Dense)              (None, 10)                1290      \n",
      "=================================================================\n",
      "Total params: 235,146\n",
      "Trainable params: 235,146\n",
      "Non-trainable params: 0\n",
      "_________________________________________________________________\n"
     ]
    }
   ],
   "source": [
    "model.summary()\n"
   ]
  },
  {
   "cell_type": "code",
   "execution_count": 11,
   "id": "a970e82f",
   "metadata": {},
   "outputs": [
    {
     "name": "stdout",
     "output_type": "stream",
     "text": [
      "('You must install pydot (`pip install pydot`) and install graphviz (see instructions at https://graphviz.gitlab.io/download/) ', 'for plot_model/model_to_dot to work.')\n"
     ]
    }
   ],
   "source": [
    "from tensorflow.keras.utils import plot_model\n",
    "\n",
    "plot_model(model, to_file='model_plot.png', show_shapes=True, show_layer_names=True)"
   ]
  },
  {
   "cell_type": "code",
   "execution_count": 21,
   "id": "f37c581b",
   "metadata": {},
   "outputs": [
    {
     "name": "stdout",
     "output_type": "stream",
     "text": [
      "Epoch 1/20\n",
      "1719/1719 [==============================] - 313s 181ms/step - loss: 0.5764 - accuracy: 0.8607 - val_loss: 0.2869 - val_accuracy: 0.9204\n",
      "Epoch 2/20\n",
      "1719/1719 [==============================] - 195s 113ms/step - loss: 0.2628 - accuracy: 0.9253 - val_loss: 0.2136 - val_accuracy: 0.9396\n",
      "Epoch 3/20\n",
      "1719/1719 [==============================] - 213s 124ms/step - loss: 0.2013 - accuracy: 0.9426 - val_loss: 0.1680 - val_accuracy: 0.9532\n",
      "Epoch 4/20\n",
      "1719/1719 [==============================] - 225s 131ms/step - loss: 0.1617 - accuracy: 0.9538 - val_loss: 0.1458 - val_accuracy: 0.9606\n",
      "Epoch 5/20\n",
      "1719/1719 [==============================] - 223s 130ms/step - loss: 0.1325 - accuracy: 0.9621 - val_loss: 0.1186 - val_accuracy: 0.9682\n",
      "Epoch 6/20\n",
      "1719/1719 [==============================] - 183s 106ms/step - loss: 0.1107 - accuracy: 0.9688 - val_loss: 0.1077 - val_accuracy: 0.9700\n",
      "Epoch 7/20\n",
      "1719/1719 [==============================] - 166s 97ms/step - loss: 0.0928 - accuracy: 0.9741 - val_loss: 0.0930 - val_accuracy: 0.9738\n",
      "Epoch 8/20\n",
      "1719/1719 [==============================] - 188s 109ms/step - loss: 0.0789 - accuracy: 0.9784 - val_loss: 0.0876 - val_accuracy: 0.9754\n",
      "Epoch 9/20\n",
      "1719/1719 [==============================] - 205s 119ms/step - loss: 0.0673 - accuracy: 0.9815 - val_loss: 0.0796 - val_accuracy: 0.9782\n",
      "Epoch 10/20\n",
      "1719/1719 [==============================] - 188s 109ms/step - loss: 0.0578 - accuracy: 0.9844 - val_loss: 0.0777 - val_accuracy: 0.9778\n",
      "Epoch 11/20\n",
      "1719/1719 [==============================] - 197s 115ms/step - loss: 0.0498 - accuracy: 0.9871 - val_loss: 0.0716 - val_accuracy: 0.9800\n",
      "Epoch 12/20\n",
      "1719/1719 [==============================] - 206s 120ms/step - loss: 0.0428 - accuracy: 0.9891 - val_loss: 0.0692 - val_accuracy: 0.9794\n",
      "Epoch 13/20\n",
      "1719/1719 [==============================] - 194s 113ms/step - loss: 0.0371 - accuracy: 0.9905 - val_loss: 0.0674 - val_accuracy: 0.9814\n",
      "Epoch 14/20\n",
      "1719/1719 [==============================] - 222s 129ms/step - loss: 0.0315 - accuracy: 0.9921 - val_loss: 0.0699 - val_accuracy: 0.9776\n",
      "Epoch 15/20\n",
      "1719/1719 [==============================] - 247s 144ms/step - loss: 0.0276 - accuracy: 0.9937 - val_loss: 0.0663 - val_accuracy: 0.9814\n",
      "Epoch 16/20\n",
      "1719/1719 [==============================] - 208s 121ms/step - loss: 0.0238 - accuracy: 0.9951 - val_loss: 0.0618 - val_accuracy: 0.9834\n",
      "Epoch 17/20\n",
      "1719/1719 [==============================] - 197s 114ms/step - loss: 0.0207 - accuracy: 0.9959 - val_loss: 0.0613 - val_accuracy: 0.9816\n",
      "Epoch 18/20\n",
      "1719/1719 [==============================] - 182s 106ms/step - loss: 0.0180 - accuracy: 0.9965 - val_loss: 0.0615 - val_accuracy: 0.9824\n",
      "Epoch 19/20\n",
      "1719/1719 [==============================] - 182s 106ms/step - loss: 0.0155 - accuracy: 0.9976 - val_loss: 0.0598 - val_accuracy: 0.9834\n",
      "Epoch 20/20\n",
      "1719/1719 [==============================] - 177s 103ms/step - loss: 0.0135 - accuracy: 0.9980 - val_loss: 0.0593 - val_accuracy: 0.9834\n"
     ]
    }
   ],
   "source": [
    "model.compile(loss=\"sparse_categorical_crossentropy\", optimizer=\"sgd\",\n",
    "              metrics=[\"accuracy\"])\n",
    "history = model.fit(X_train, y_train, epochs=20, validation_data=(X_valid, y_valid))\n"
   ]
  },
  {
   "cell_type": "code",
   "execution_count": 14,
   "id": "11f43afb",
   "metadata": {},
   "outputs": [
    {
     "data": {
      "image/png": "[encoded data removed]",
      "text/plain": [
       "<Figure size 576x360 with 1 Axes>"
      ]
     },
     "metadata": {
      "needs_background": "light"
     },
     "output_type": "display_data"
    }
   ],
   "source": [
    "import pandas as pd\n",
    "import matplotlib.pyplot as plt\n",
    "\n",
    "pd.DataFrame(history.history).plot(figsize=(8, 5))\n",
    "plt.grid(True)\n",
    "plt.gca().set_ylim(0, 1) \n",
    "plt.show()"
   ]
  },
  {
   "cell_type": "code",
   "execution_count": 17,
   "id": "c9873e05",
   "metadata": {},
   "outputs": [
    {
     "data": {
      "text/html": [
       "<div>\n",
       "<style scoped>\n",
       "    .dataframe tbody tr th:only-of-type {\n",
       "        vertical-align: middle;\n",
       "    }\n",
       "\n",
       "    .dataframe tbody tr th {\n",
       "        vertical-align: top;\n",
       "    }\n",
       "\n",
       "    .dataframe thead th {\n",
       "        text-align: right;\n",
       "    }\n",
       "</style>\n",
       "<table border=\"1\" class=\"dataframe\">\n",
       "  <thead>\n",
       "    <tr style=\"text-align: right;\">\n",
       "      <th></th>\n",
       "      <th>loss</th>\n",
       "      <th>accuracy</th>\n",
       "      <th>val_loss</th>\n",
       "      <th>val_accuracy</th>\n",
       "    </tr>\n",
       "  </thead>\n",
       "  <tbody>\n",
       "    <tr>\n",
       "      <th>0</th>\n",
       "      <td>0.639703</td>\n",
       "      <td>0.837036</td>\n",
       "      <td>0.309447</td>\n",
       "      <td>0.9168</td>\n",
       "    </tr>\n",
       "    <tr>\n",
       "      <th>1</th>\n",
       "      <td>0.293176</td>\n",
       "      <td>0.916618</td>\n",
       "      <td>0.240473</td>\n",
       "      <td>0.9334</td>\n",
       "    </tr>\n",
       "    <tr>\n",
       "      <th>2</th>\n",
       "      <td>0.240118</td>\n",
       "      <td>0.931309</td>\n",
       "      <td>0.204155</td>\n",
       "      <td>0.9442</td>\n",
       "    </tr>\n",
       "    <tr>\n",
       "      <th>3</th>\n",
       "      <td>0.205916</td>\n",
       "      <td>0.940818</td>\n",
       "      <td>0.176830</td>\n",
       "      <td>0.9502</td>\n",
       "    </tr>\n",
       "    <tr>\n",
       "      <th>4</th>\n",
       "      <td>0.180169</td>\n",
       "      <td>0.947764</td>\n",
       "      <td>0.161769</td>\n",
       "      <td>0.9564</td>\n",
       "    </tr>\n",
       "    <tr>\n",
       "      <th>5</th>\n",
       "      <td>0.159264</td>\n",
       "      <td>0.954273</td>\n",
       "      <td>0.145284</td>\n",
       "      <td>0.9582</td>\n",
       "    </tr>\n",
       "    <tr>\n",
       "      <th>6</th>\n",
       "      <td>0.142996</td>\n",
       "      <td>0.959255</td>\n",
       "      <td>0.134210</td>\n",
       "      <td>0.9624</td>\n",
       "    </tr>\n",
       "    <tr>\n",
       "      <th>7</th>\n",
       "      <td>0.129330</td>\n",
       "      <td>0.963491</td>\n",
       "      <td>0.125120</td>\n",
       "      <td>0.9646</td>\n",
       "    </tr>\n",
       "    <tr>\n",
       "      <th>8</th>\n",
       "      <td>0.117728</td>\n",
       "      <td>0.966964</td>\n",
       "      <td>0.116744</td>\n",
       "      <td>0.9658</td>\n",
       "    </tr>\n",
       "    <tr>\n",
       "      <th>9</th>\n",
       "      <td>0.107682</td>\n",
       "      <td>0.969400</td>\n",
       "      <td>0.109500</td>\n",
       "      <td>0.9684</td>\n",
       "    </tr>\n",
       "    <tr>\n",
       "      <th>10</th>\n",
       "      <td>0.099373</td>\n",
       "      <td>0.972545</td>\n",
       "      <td>0.104151</td>\n",
       "      <td>0.9710</td>\n",
       "    </tr>\n",
       "    <tr>\n",
       "      <th>11</th>\n",
       "      <td>0.091813</td>\n",
       "      <td>0.974382</td>\n",
       "      <td>0.100638</td>\n",
       "      <td>0.9698</td>\n",
       "    </tr>\n",
       "    <tr>\n",
       "      <th>12</th>\n",
       "      <td>0.085284</td>\n",
       "      <td>0.976073</td>\n",
       "      <td>0.094428</td>\n",
       "      <td>0.9734</td>\n",
       "    </tr>\n",
       "    <tr>\n",
       "      <th>13</th>\n",
       "      <td>0.078536</td>\n",
       "      <td>0.978091</td>\n",
       "      <td>0.093931</td>\n",
       "      <td>0.9724</td>\n",
       "    </tr>\n",
       "    <tr>\n",
       "      <th>14</th>\n",
       "      <td>0.073409</td>\n",
       "      <td>0.979509</td>\n",
       "      <td>0.089392</td>\n",
       "      <td>0.9742</td>\n",
       "    </tr>\n",
       "    <tr>\n",
       "      <th>15</th>\n",
       "      <td>0.069213</td>\n",
       "      <td>0.980709</td>\n",
       "      <td>0.085218</td>\n",
       "      <td>0.9748</td>\n",
       "    </tr>\n",
       "    <tr>\n",
       "      <th>16</th>\n",
       "      <td>0.064338</td>\n",
       "      <td>0.982291</td>\n",
       "      <td>0.084290</td>\n",
       "      <td>0.9738</td>\n",
       "    </tr>\n",
       "    <tr>\n",
       "      <th>17</th>\n",
       "      <td>0.060093</td>\n",
       "      <td>0.983309</td>\n",
       "      <td>0.081389</td>\n",
       "      <td>0.9754</td>\n",
       "    </tr>\n",
       "    <tr>\n",
       "      <th>18</th>\n",
       "      <td>0.056251</td>\n",
       "      <td>0.984564</td>\n",
       "      <td>0.081782</td>\n",
       "      <td>0.9766</td>\n",
       "    </tr>\n",
       "    <tr>\n",
       "      <th>19</th>\n",
       "      <td>0.053060</td>\n",
       "      <td>0.985582</td>\n",
       "      <td>0.077551</td>\n",
       "      <td>0.9760</td>\n",
       "    </tr>\n",
       "  </tbody>\n",
       "</table>\n",
       "</div>"
      ],
      "text/plain": [
       "        loss  accuracy  val_loss  val_accuracy\n",
       "0   0.639703  0.837036  0.309447        0.9168\n",
       "1   0.293176  0.916618  0.240473        0.9334\n",
       "2   0.240118  0.931309  0.204155        0.9442\n",
       "3   0.205916  0.940818  0.176830        0.9502\n",
       "4   0.180169  0.947764  0.161769        0.9564\n",
       "5   0.159264  0.954273  0.145284        0.9582\n",
       "6   0.142996  0.959255  0.134210        0.9624\n",
       "7   0.129330  0.963491  0.125120        0.9646\n",
       "8   0.117728  0.966964  0.116744        0.9658\n",
       "9   0.107682  0.969400  0.109500        0.9684\n",
       "10  0.099373  0.972545  0.104151        0.9710\n",
       "11  0.091813  0.974382  0.100638        0.9698\n",
       "12  0.085284  0.976073  0.094428        0.9734\n",
       "13  0.078536  0.978091  0.093931        0.9724\n",
       "14  0.073409  0.979509  0.089392        0.9742\n",
       "15  0.069213  0.980709  0.085218        0.9748\n",
       "16  0.064338  0.982291  0.084290        0.9738\n",
       "17  0.060093  0.983309  0.081389        0.9754\n",
       "18  0.056251  0.984564  0.081782        0.9766\n",
       "19  0.053060  0.985582  0.077551        0.9760"
      ]
     },
     "execution_count": 17,
     "metadata": {},
     "output_type": "execute_result"
    }
   ],
   "source": [
    "pd.DataFrame(history.history)\n"
   ]
  },
  {
   "cell_type": "code",
   "execution_count": 18,
   "id": "4f49b882",
   "metadata": {},
   "outputs": [],
   "source": [
    "\n",
    "input_ = keras.layers.Input(shape=[28, 28])\n",
    "flatten = keras.layers.Flatten(input_shape=[28, 28])(input_)\n",
    "hidden1 = keras.layers.Dense(2**14, activation=\"relu\")(flatten)\n",
    "hidden2 = keras.layers.Dense(512, activation='relu')(hidden1)\n",
    "hidden3 = keras.layers.Dense(28*28, activation='relu')(hidden2)\n",
    "reshap = keras.layers.Reshape((28, 28))(hidden3)\n",
    "concat_ = keras.layers.Concatenate()([input_, reshap])\n",
    "flatten2 = keras.layers.Flatten(input_shape=[28, 28])(concat_)\n",
    "output = keras.layers.Dense(10, activation='softmax')(flatten2)\n",
    "model = keras.Model(inputs=[input_], outputs=[output] )"
   ]
  },
  {
   "cell_type": "code",
   "execution_count": 19,
   "id": "9c09b5ab",
   "metadata": {},
   "outputs": [
    {
     "name": "stdout",
     "output_type": "stream",
     "text": [
      "Model: \"model\"\n",
      "__________________________________________________________________________________________________\n",
      "Layer (type)                    Output Shape         Param #     Connected to                     \n",
      "==================================================================================================\n",
      "input_1 (InputLayer)            [(None, 28, 28)]     0                                            \n",
      "__________________________________________________________________________________________________\n",
      "flatten_1 (Flatten)             (None, 784)          0           input_1[0][0]                    \n",
      "__________________________________________________________________________________________________\n",
      "dense_3 (Dense)                 (None, 16384)        12861440    flatten_1[0][0]                  \n",
      "__________________________________________________________________________________________________\n",
      "dense_4 (Dense)                 (None, 512)          8389120     dense_3[0][0]                    \n",
      "__________________________________________________________________________________________________\n",
      "dense_5 (Dense)                 (None, 784)          402192      dense_4[0][0]                    \n",
      "__________________________________________________________________________________________________\n",
      "reshape (Reshape)               (None, 28, 28)       0           dense_5[0][0]                    \n",
      "__________________________________________________________________________________________________\n",
      "concatenate (Concatenate)       (None, 28, 56)       0           input_1[0][0]                    \n",
      "                                                                 reshape[0][0]                    \n",
      "__________________________________________________________________________________________________\n",
      "flatten_2 (Flatten)             (None, 1568)         0           concatenate[0][0]                \n",
      "__________________________________________________________________________________________________\n",
      "dense_6 (Dense)                 (None, 10)           15690       flatten_2[0][0]                  \n",
      "==================================================================================================\n",
      "Total params: 21,668,442\n",
      "Trainable params: 21,668,442\n",
      "Non-trainable params: 0\n",
      "__________________________________________________________________________________________________\n"
     ]
    }
   ],
   "source": [
    "model.summary()"
   ]
  },
  {
   "cell_type": "code",
   "execution_count": 20,
   "id": "d4dd28d9",
   "metadata": {},
   "outputs": [
    {
     "name": "stdout",
     "output_type": "stream",
     "text": [
      "('You must install pydot (`pip install pydot`) and install graphviz (see instructions at https://graphviz.gitlab.io/download/) ', 'for plot_model/model_to_dot to work.')\n"
     ]
    }
   ],
   "source": [
    "from tensorflow.keras.utils import plot_model\n",
    "\n",
    "plot_model(model, to_file='model_plot1.png', show_shapes=True, show_layer_names=True)"
   ]
  },
  {
   "cell_type": "code",
   "execution_count": null,
   "id": "58c7b120",
   "metadata": {},
   "outputs": [],
   "source": [
    "import pandas as pd\n",
    "import matplotlib.pyplot as plt\n",
    "\n",
    "pd.DataFrame(history.history).plot(figsize=(8, 5))\n",
    "plt.grid(True)\n",
    "plt.gca().set_ylim(0, 1) \n",
    "plt.show()"
   ]
  }
 ],
 "metadata": {
  "kernelspec": {
   "display_name": "Sample",
   "language": "python",
   "name": "sample"
  },
  "language_info": {
   "codemirror_mode": {
    "name": "ipython",
    "version": 3
   },
   "file_extension": ".py",
   "mimetype": "text/x-python",
   "name": "python",
   "nbconvert_exporter": "python",
   "pygments_lexer": "ipython3",
   "version": "3.9.1"
  }
 },
 "nbformat": 4,
 "nbformat_minor": 5
}
