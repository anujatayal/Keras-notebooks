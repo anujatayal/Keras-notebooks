{
 "cells": [
  {
   "cell_type": "markdown",
   "id": "f978ac6e",
   "metadata": {},
   "source": [
    "# Pathlib \n",
    "pure path- provides only computational operations\n",
    "Operates without accessing the file system\n",
    "\n",
    "concrete path- provides computational and I/O operations\n",
    "\n",
    "Absolute path specifies the location from the root directory\n",
    "Relative path is related to the current directory.\n"
   ]
  },
  {
   "cell_type": "code",
   "execution_count": 1,
   "id": "ed3bf77d",
   "metadata": {},
   "outputs": [
    {
     "name": "stdout",
     "output_type": "stream",
     "text": [
      "True\n"
     ]
    }
   ],
   "source": [
    "from pathlib import PurePath\n",
    "  \n",
    "# Path\n",
    "path = '/usr / local / bin'\n",
    "  \n",
    "# Instantiate the PurePath class\n",
    "obj = PurePath(path)\n",
    "  \n",
    "# Check whether the given path is \n",
    "# absolute or not\n",
    "isAbs = obj.is_absolute()\n",
    "  \n",
    "print(isAbs)"
   ]
  },
  {
   "cell_type": "code",
   "execution_count": 2,
   "id": "fa969c4b",
   "metadata": {},
   "outputs": [
    {
     "name": "stdout",
     "output_type": "stream",
     "text": [
      "foo \\ baar\n"
     ]
    }
   ],
   "source": [
    "from pathlib import PureWindowsPath\n",
    "  \n",
    "# Instantiate the PureWindowsPath class\n",
    "obj = PureWindowsPath('foo / baar')\n",
    "  \n",
    "# print the instance of PureWindowsPath class\n",
    "print(obj)"
   ]
  },
  {
   "cell_type": "code",
   "execution_count": 3,
   "id": "afc133b9",
   "metadata": {},
   "outputs": [
    {
     "name": "stdout",
     "output_type": "stream",
     "text": [
      "foo / baar\n"
     ]
    }
   ],
   "source": [
    "from pathlib import PurePosixPath\n",
    "  \n",
    "# Instantiate the PurePosixPath class\n",
    "obj = PurePosixPath('foo / baar')\n",
    "  \n",
    "# print the instance of PurePosixPath class\n",
    "print(obj)"
   ]
  },
  {
   "cell_type": "code",
   "execution_count": 4,
   "id": "4660beb2",
   "metadata": {},
   "outputs": [
    {
     "name": "stdout",
     "output_type": "stream",
     "text": [
      "foo/baar\n"
     ]
    }
   ],
   "source": [
    "from pathlib import PurePath\n",
    "  \n",
    "# Instantiate the PurePath class\n",
    "obj = PurePath('foo/baar')\n",
    "  \n",
    "# print the instance of PurePath class\n",
    "print(obj)"
   ]
  },
  {
   "cell_type": "code",
   "execution_count": 6,
   "id": "456a67d7",
   "metadata": {},
   "outputs": [
    {
     "name": "stdout",
     "output_type": "stream",
     "text": [
      "/Users/anujatayal/Downloads/ml:dl:nlp/Keras Jupyter Notebooks\n"
     ]
    }
   ],
   "source": [
    "from pathlib import Path\n",
    "print(Path.cwd())"
   ]
  },
  {
   "cell_type": "code",
   "execution_count": 7,
   "id": "e90811e2",
   "metadata": {},
   "outputs": [
    {
     "name": "stdout",
     "output_type": "stream",
     "text": [
      "True\n"
     ]
    }
   ],
   "source": [
    "path='/Users/anujatayal/Downloads'\n",
    "obj=Path(path)\n",
    "print(obj.exists())"
   ]
  },
  {
   "cell_type": "code",
   "execution_count": 8,
   "id": "11fd150f",
   "metadata": {},
   "outputs": [
    {
     "name": "stdout",
     "output_type": "stream",
     "text": [
      "True\n"
     ]
    }
   ],
   "source": [
    "print(obj.is_dir())"
   ]
  },
  {
   "cell_type": "markdown",
   "id": "580325ed",
   "metadata": {},
   "source": [
    "# Shutil\n",
    "high level operations on file- copy, create, and remote operations on the file\n",
    "-helps in automating the process of copying and removal of files and directories\n"
   ]
  },
  {
   "cell_type": "markdown",
   "id": "b45010c5",
   "metadata": {},
   "source": [
    "shutil.copy() method in Python is used to copy the content of the source file to the destination file or directory. It also preserves the file’s permission mode but other metadata of the file like the file’s creation and modification times is not preserved.\n",
    "The source must represent a file but the destination can be a file or a directory. If the destination is a directory then the file will be copied into the destination using the base filename from the source. Also, the destination must be writable. If the destination is a file and already exists then it will be replaced with the source file otherwise a new file will be created."
   ]
  },
  {
   "cell_type": "code",
   "execution_count": null,
   "id": "2efe19b3",
   "metadata": {},
   "outputs": [],
   "source": []
  }
 ],
 "metadata": {
  "kernelspec": {
   "display_name": "Python 3",
   "language": "python",
   "name": "python3"
  },
  "language_info": {
   "codemirror_mode": {
    "name": "ipython",
    "version": 3
   },
   "file_extension": ".py",
   "mimetype": "text/x-python",
   "name": "python",
   "nbconvert_exporter": "python",
   "pygments_lexer": "ipython3",
   "version": "3.9.1"
  }
 },
 "nbformat": 4,
 "nbformat_minor": 5
}
