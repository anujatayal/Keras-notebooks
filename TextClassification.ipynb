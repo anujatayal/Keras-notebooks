{
 "cells": [
  {
   "cell_type": "code",
   "execution_count": 1,
   "id": "4dd558eb",
   "metadata": {},
   "outputs": [],
   "source": [
    "import tensorflow as tf\n"
   ]
  },
  {
   "cell_type": "code",
   "execution_count": 2,
   "id": "97c269db",
   "metadata": {},
   "outputs": [],
   "source": [
    "imdb=tf.keras.datasets.imdb"
   ]
  },
  {
   "cell_type": "code",
   "execution_count": 4,
   "id": "c1870c01",
   "metadata": {},
   "outputs": [
    {
     "name": "stdout",
     "output_type": "stream",
     "text": [
      "Downloading data from https://storage.googleapis.com/tensorflow/tf-keras-datasets/imdb.npz\n",
      "17465344/17464789 [==============================] - 5s 0us/step\n"
     ]
    },
    {
     "name": "stderr",
     "output_type": "stream",
     "text": [
      "<__array_function__ internals>:5: VisibleDeprecationWarning: Creating an ndarray from ragged nested sequences (which is a list-or-tuple of lists-or-tuples-or ndarrays with different lengths or shapes) is deprecated. If you meant to do this, you must specify 'dtype=object' when creating the ndarray\n",
      "/Users/anujatayal/.pyenv/versions/3.9.1/envs/sample/lib/python3.9/site-packages/tensorflow/python/keras/datasets/imdb.py:155: VisibleDeprecationWarning: Creating an ndarray from ragged nested sequences (which is a list-or-tuple of lists-or-tuples-or ndarrays with different lengths or shapes) is deprecated. If you meant to do this, you must specify 'dtype=object' when creating the ndarray\n",
      "  x_train, y_train = np.array(xs[:idx]), np.array(labels[:idx])\n",
      "/Users/anujatayal/.pyenv/versions/3.9.1/envs/sample/lib/python3.9/site-packages/tensorflow/python/keras/datasets/imdb.py:156: VisibleDeprecationWarning: Creating an ndarray from ragged nested sequences (which is a list-or-tuple of lists-or-tuples-or ndarrays with different lengths or shapes) is deprecated. If you meant to do this, you must specify 'dtype=object' when creating the ndarray\n",
      "  x_test, y_test = np.array(xs[idx:]), np.array(labels[idx:])\n"
     ]
    }
   ],
   "source": [
    "(trainData,trainLabels),(testData,testLabels)=imdb.load_data(num_words=10000)"
   ]
  },
  {
   "cell_type": "code",
   "execution_count": null,
   "id": "7b5d8705",
   "metadata": {},
   "outputs": [],
   "source": [
    "#trainData starts with 1 indicating start of review,\n",
    "#every review of different length- so padding required\n",
    "# num_words=10000 -> keeps the most frequent 10,000 words\n",
    "# 25,000 -training, 25,000-testing\n",
    "# data has already been preprocessed- reviews have been converted to integers representing a word in dictionary\n",
    "# lower nos are more common words, higher nos are least common words\n",
    "# 0-negative review, 1-positive review\n"
   ]
  },
  {
   "cell_type": "code",
   "execution_count": 6,
   "id": "817dd465",
   "metadata": {},
   "outputs": [
    {
     "name": "stdout",
     "output_type": "stream",
     "text": [
      "25000\n"
     ]
    }
   ],
   "source": [
    "print(len(trainData))"
   ]
  },
  {
   "cell_type": "code",
   "execution_count": 13,
   "id": "7f3bb17e",
   "metadata": {},
   "outputs": [
    {
     "data": {
      "text/plain": [
       "141"
      ]
     },
     "execution_count": 13,
     "metadata": {},
     "output_type": "execute_result"
    }
   ],
   "source": [
    "len(trainData[2])"
   ]
  },
  {
   "cell_type": "code",
   "execution_count": 10,
   "id": "a4bc0bab",
   "metadata": {},
   "outputs": [
    {
     "data": {
      "text/plain": [
       "0"
      ]
     },
     "execution_count": 10,
     "metadata": {},
     "output_type": "execute_result"
    }
   ],
   "source": [
    "trainLabels[1]"
   ]
  },
  {
   "cell_type": "code",
   "execution_count": 39,
   "id": "1bc7c303",
   "metadata": {},
   "outputs": [],
   "source": [
    "word_index=imdb.get_word_index()\n",
    "word_index={k:v+3 for k,v in word_index.items()}\n",
    "word_index[\"<PAD>\"]=0\n",
    "word_index[\"<Start>\"]=1\n",
    "word_index[\"<UNK>\"]=2\n",
    "word_index[\"<Unused>\"]=3"
   ]
  },
  {
   "cell_type": "code",
   "execution_count": 40,
   "id": "0ee70473",
   "metadata": {},
   "outputs": [],
   "source": [
    "reverse_word_index=dict((value,key) for (key,value) in word_index.items())"
   ]
  },
  {
   "cell_type": "code",
   "execution_count": 55,
   "id": "4aea6060",
   "metadata": {},
   "outputs": [],
   "source": [
    "wordIndex=imdb.get_word_index()\n",
    "reverseWordIndex=dict((value,key) for (key,value) in wordIndex.items())\n",
    "def decodeReview(text):\n",
    "    return ' '.join([reverseWordIndex.get(i,'?') for i in text])"
   ]
  },
  {
   "cell_type": "code",
   "execution_count": 48,
   "id": "0341d1dc",
   "metadata": {},
   "outputs": [],
   "source": [
    "def decode_review(text):\n",
    "    return ' '.join([reverse_word_index.get(i,'?') for i in text])"
   ]
  },
  {
   "cell_type": "code",
   "execution_count": 58,
   "id": "58b4ee3a",
   "metadata": {},
   "outputs": [
    {
     "data": {
      "text/plain": [
       "\"<Start> this film was just brilliant casting location scenery story direction everyone's really suited the part they played and you could just imagine being there robert <UNK> is an amazing actor and now the same being director <UNK> father came from the same scottish island as myself so i loved the fact there was a real connection with this film the witty remarks throughout the film were great it was just brilliant so much that i bought the film as soon as it was released for <UNK> and would recommend it to everyone to watch and the fly fishing was amazing really cried at the end it was so sad and you know what they say if you cry at a film it must have been good and this definitely was also <UNK> to the two little boy's that played the <UNK> of norman and paul they were just brilliant children are often left out of the <UNK> list i think because the stars that play them all grown up are such a big profile for the whole film but these children are amazing and should be praised for what they have done don't you think the whole story was so lovely because it was true and was someone's life after all that was shared with us all\""
      ]
     },
     "execution_count": 58,
     "metadata": {},
     "output_type": "execute_result"
    }
   ],
   "source": [
    "decode_review(trainData[0])"
   ]
  },
  {
   "cell_type": "code",
   "execution_count": 57,
   "id": "0489623f",
   "metadata": {},
   "outputs": [
    {
     "data": {
      "text/plain": [
       "\"the as you with out themselves powerful lets loves their becomes reaching had journalist of lot from anyone to have after out atmosphere never more room and it so heart shows to years of every never going and help moments or of every chest visual movie except her was several of enough more with is now current film as you of mine potentially unfortunately of you than him that with out themselves her get for was camp of you movie sometimes movie that with scary but and to story wonderful that in seeing in character to of 70s musicians with heart had shadows they of here that with her serious to have does when from why what have critics they is you that isn't one will very to as itself with other and in of seen over landed for anyone of and br show's to whether from than out themselves history he name half some br of and odd was two most of mean for 1 any an boat she he should is thought frog but of script you not while history he heart to real at barrel but when from one bit then have two of script their with her nobody most that with wasn't to with armed acting watch an for with heartfelt film want an\""
      ]
     },
     "execution_count": 57,
     "metadata": {},
     "output_type": "execute_result"
    }
   ],
   "source": [
    "decodeReview(trainData[0])"
   ]
  },
  {
   "cell_type": "code",
   "execution_count": 61,
   "id": "b9384af8",
   "metadata": {},
   "outputs": [],
   "source": [
    "trainData=tf.keras.preprocessing.sequence.pad_sequences(trainData,value=word_index[\"<PAD>\"],padding=\"post\",maxlen=256)\n",
    "testData=tf.keras.preprocessing.sequence.pad_sequences(testData,value=word_index[\"<PAD>\"],padding=\"post\",maxlen=256)"
   ]
  },
  {
   "cell_type": "code",
   "execution_count": 62,
   "id": "eceb2c71",
   "metadata": {},
   "outputs": [
    {
     "data": {
      "text/plain": [
       "256"
      ]
     },
     "execution_count": 62,
     "metadata": {},
     "output_type": "execute_result"
    }
   ],
   "source": [
    "len(trainData[1])"
   ]
  },
  {
   "cell_type": "code",
   "execution_count": 64,
   "id": "e5b7a88d",
   "metadata": {},
   "outputs": [],
   "source": [
    "vocabSize=10000\n",
    "model=tf.keras.Sequential([\n",
    "    tf.keras.layers.Embedding(vocabSize,16),\n",
    "    tf.keras.layers.GlobalAveragePooling1D(),\n",
    "    tf.keras.layers.Dense(16,activation=\"relu\"),\n",
    "    tf.keras.layers.Dense(1,activation=\"sigmoid\")\n",
    "])"
   ]
  },
  {
   "cell_type": "code",
   "execution_count": 66,
   "id": "f39a2b2f",
   "metadata": {},
   "outputs": [
    {
     "name": "stdout",
     "output_type": "stream",
     "text": [
      "Model: \"sequential\"\n",
      "_________________________________________________________________\n",
      "Layer (type)                 Output Shape              Param #   \n",
      "=================================================================\n",
      "embedding (Embedding)        (None, None, 16)          160000    \n",
      "_________________________________________________________________\n",
      "global_average_pooling1d (Gl (None, 16)                0         \n",
      "_________________________________________________________________\n",
      "dense (Dense)                (None, 16)                272       \n",
      "_________________________________________________________________\n",
      "dense_1 (Dense)              (None, 1)                 17        \n",
      "=================================================================\n",
      "Total params: 160,289\n",
      "Trainable params: 160,289\n",
      "Non-trainable params: 0\n",
      "_________________________________________________________________\n"
     ]
    }
   ],
   "source": [
    "model.summary()"
   ]
  },
  {
   "cell_type": "code",
   "execution_count": 77,
   "id": "540fe39d",
   "metadata": {},
   "outputs": [],
   "source": [
    "model.compile(optimizer=\"adam\",loss=tf.keras.losses.BinaryCrossentropy(),metrics=[\"accuracy\"])"
   ]
  },
  {
   "cell_type": "code",
   "execution_count": 78,
   "id": "aff226db",
   "metadata": {},
   "outputs": [],
   "source": [
    "xVal=trainData[:10000]\n",
    "xTrain=trainData[10000:]\n",
    "yVal=trainLabels[:10000]\n",
    "yTrain=trainLabels[10000:]"
   ]
  },
  {
   "cell_type": "code",
   "execution_count": 79,
   "id": "3904e0dc",
   "metadata": {},
   "outputs": [
    {
     "name": "stdout",
     "output_type": "stream",
     "text": [
      "Epoch 1/40\n",
      "30/30 [==============================] - 1s 25ms/step - loss: 0.6924 - accuracy: 0.5662 - val_loss: 0.6910 - val_accuracy: 0.6113\n",
      "Epoch 2/40\n",
      "30/30 [==============================] - 1s 20ms/step - loss: 0.6884 - accuracy: 0.6992 - val_loss: 0.6849 - val_accuracy: 0.6790\n",
      "Epoch 3/40\n",
      "30/30 [==============================] - 1s 25ms/step - loss: 0.6782 - accuracy: 0.7296 - val_loss: 0.6713 - val_accuracy: 0.7511\n",
      "Epoch 4/40\n",
      "30/30 [==============================] - 1s 25ms/step - loss: 0.6580 - accuracy: 0.7555 - val_loss: 0.6472 - val_accuracy: 0.7596\n",
      "Epoch 5/40\n",
      "30/30 [==============================] - 1s 18ms/step - loss: 0.6267 - accuracy: 0.7807 - val_loss: 0.6133 - val_accuracy: 0.7629\n",
      "Epoch 6/40\n",
      "30/30 [==============================] - 1s 19ms/step - loss: 0.5858 - accuracy: 0.8014 - val_loss: 0.5728 - val_accuracy: 0.7991\n",
      "Epoch 7/40\n",
      "30/30 [==============================] - 1s 24ms/step - loss: 0.5391 - accuracy: 0.8255 - val_loss: 0.5296 - val_accuracy: 0.8180\n",
      "Epoch 8/40\n",
      "30/30 [==============================] - 1s 18ms/step - loss: 0.4912 - accuracy: 0.8455 - val_loss: 0.4873 - val_accuracy: 0.8309\n",
      "Epoch 9/40\n",
      "30/30 [==============================] - 1s 22ms/step - loss: 0.4463 - accuracy: 0.8602 - val_loss: 0.4495 - val_accuracy: 0.8431\n",
      "Epoch 10/40\n",
      "30/30 [==============================] - 1s 19ms/step - loss: 0.4060 - accuracy: 0.8718 - val_loss: 0.4167 - val_accuracy: 0.8523\n",
      "Epoch 11/40\n",
      "30/30 [==============================] - 1s 18ms/step - loss: 0.3706 - accuracy: 0.8814 - val_loss: 0.3894 - val_accuracy: 0.8576\n",
      "Epoch 12/40\n",
      "30/30 [==============================] - 1s 17ms/step - loss: 0.3402 - accuracy: 0.8885 - val_loss: 0.3667 - val_accuracy: 0.8640\n",
      "Epoch 13/40\n",
      "30/30 [==============================] - 1s 18ms/step - loss: 0.3144 - accuracy: 0.8935 - val_loss: 0.3486 - val_accuracy: 0.8680\n",
      "Epoch 14/40\n",
      "30/30 [==============================] - 1s 24ms/step - loss: 0.2924 - accuracy: 0.8985 - val_loss: 0.3351 - val_accuracy: 0.8687\n",
      "Epoch 15/40\n",
      "30/30 [==============================] - 1s 19ms/step - loss: 0.2740 - accuracy: 0.9061 - val_loss: 0.3233 - val_accuracy: 0.8755\n",
      "Epoch 16/40\n",
      "30/30 [==============================] - 1s 18ms/step - loss: 0.2577 - accuracy: 0.9096 - val_loss: 0.3150 - val_accuracy: 0.8745\n",
      "Epoch 17/40\n",
      "30/30 [==============================] - 1s 18ms/step - loss: 0.2425 - accuracy: 0.9161 - val_loss: 0.3069 - val_accuracy: 0.8796\n",
      "Epoch 18/40\n",
      "30/30 [==============================] - 1s 18ms/step - loss: 0.2296 - accuracy: 0.9205 - val_loss: 0.3033 - val_accuracy: 0.8798\n",
      "Epoch 19/40\n",
      "30/30 [==============================] - 1s 25ms/step - loss: 0.2182 - accuracy: 0.9239 - val_loss: 0.2965 - val_accuracy: 0.8811\n",
      "Epoch 20/40\n",
      "30/30 [==============================] - 1s 20ms/step - loss: 0.2070 - accuracy: 0.9283 - val_loss: 0.2931 - val_accuracy: 0.8830\n",
      "Epoch 21/40\n",
      "30/30 [==============================] - 1s 18ms/step - loss: 0.1972 - accuracy: 0.9331 - val_loss: 0.2908 - val_accuracy: 0.8837\n",
      "Epoch 22/40\n",
      "30/30 [==============================] - 1s 21ms/step - loss: 0.1878 - accuracy: 0.9366 - val_loss: 0.2879 - val_accuracy: 0.8845\n",
      "Epoch 23/40\n",
      "30/30 [==============================] - 1s 22ms/step - loss: 0.1793 - accuracy: 0.9406 - val_loss: 0.2866 - val_accuracy: 0.8855\n",
      "Epoch 24/40\n",
      "30/30 [==============================] - 1s 20ms/step - loss: 0.1721 - accuracy: 0.9427 - val_loss: 0.2862 - val_accuracy: 0.8834\n",
      "Epoch 25/40\n",
      "30/30 [==============================] - 1s 18ms/step - loss: 0.1647 - accuracy: 0.9469 - val_loss: 0.2865 - val_accuracy: 0.8836\n",
      "Epoch 26/40\n",
      "30/30 [==============================] - 1s 19ms/step - loss: 0.1575 - accuracy: 0.9501 - val_loss: 0.2851 - val_accuracy: 0.8855\n",
      "Epoch 27/40\n",
      "30/30 [==============================] - 1s 17ms/step - loss: 0.1505 - accuracy: 0.9530 - val_loss: 0.2855 - val_accuracy: 0.8855\n",
      "Epoch 28/40\n",
      "30/30 [==============================] - 1s 18ms/step - loss: 0.1443 - accuracy: 0.9557 - val_loss: 0.2873 - val_accuracy: 0.8843\n",
      "Epoch 29/40\n",
      "30/30 [==============================] - 1s 18ms/step - loss: 0.1384 - accuracy: 0.9575 - val_loss: 0.2875 - val_accuracy: 0.8859\n",
      "Epoch 30/40\n",
      "30/30 [==============================] - 1s 18ms/step - loss: 0.1332 - accuracy: 0.9597 - val_loss: 0.2901 - val_accuracy: 0.8843\n",
      "Epoch 31/40\n",
      "30/30 [==============================] - 1s 18ms/step - loss: 0.1278 - accuracy: 0.9627 - val_loss: 0.2905 - val_accuracy: 0.8852\n",
      "Epoch 32/40\n",
      "30/30 [==============================] - 1s 19ms/step - loss: 0.1223 - accuracy: 0.9657 - val_loss: 0.2938 - val_accuracy: 0.8842\n",
      "Epoch 33/40\n",
      "30/30 [==============================] - 1s 18ms/step - loss: 0.1185 - accuracy: 0.9659 - val_loss: 0.2959 - val_accuracy: 0.8850\n",
      "Epoch 34/40\n",
      "30/30 [==============================] - 1s 18ms/step - loss: 0.1131 - accuracy: 0.9689 - val_loss: 0.2972 - val_accuracy: 0.8855\n",
      "Epoch 35/40\n",
      "30/30 [==============================] - 1s 25ms/step - loss: 0.1088 - accuracy: 0.9703 - val_loss: 0.2995 - val_accuracy: 0.8839\n",
      "Epoch 36/40\n",
      "30/30 [==============================] - 1s 20ms/step - loss: 0.1042 - accuracy: 0.9715 - val_loss: 0.3036 - val_accuracy: 0.8830\n",
      "Epoch 37/40\n",
      "30/30 [==============================] - 1s 23ms/step - loss: 0.1007 - accuracy: 0.9732 - val_loss: 0.3056 - val_accuracy: 0.8833\n",
      "Epoch 38/40\n",
      "30/30 [==============================] - 1s 22ms/step - loss: 0.0965 - accuracy: 0.9744 - val_loss: 0.3097 - val_accuracy: 0.8824\n",
      "Epoch 39/40\n",
      "30/30 [==============================] - 1s 19ms/step - loss: 0.0928 - accuracy: 0.9759 - val_loss: 0.3127 - val_accuracy: 0.8827\n",
      "Epoch 40/40\n",
      "30/30 [==============================] - 1s 26ms/step - loss: 0.0894 - accuracy: 0.9773 - val_loss: 0.3154 - val_accuracy: 0.8822\n"
     ]
    }
   ],
   "source": [
    "history=model.fit(xTrain,yTrain,epochs=40,batch_size=512,validation_data=(xVal,yVal))"
   ]
  },
  {
   "cell_type": "code",
   "execution_count": 76,
   "id": "c823c612",
   "metadata": {},
   "outputs": [
    {
     "data": {
      "text/plain": [
       "array([   1,   14,   22,   16,   43,  530,  973, 1622, 1385,   65,  458,\n",
       "       4468,   66, 3941,    4,  173,   36,  256,    5,   25,  100,   43,\n",
       "        838,  112,   50,  670,    2,    9,   35,  480,  284,    5,  150,\n",
       "          4,  172,  112,  167,    2,  336,  385,   39,    4,  172, 4536,\n",
       "       1111,   17,  546,   38,   13,  447,    4,  192,   50,   16,    6,\n",
       "        147, 2025,   19,   14,   22,    4, 1920, 4613,  469,    4,   22,\n",
       "         71,   87,   12,   16,   43,  530,   38,   76,   15,   13, 1247,\n",
       "          4,   22,   17,  515,   17,   12,   16,  626,   18,    2,    5,\n",
       "         62,  386,   12,    8,  316,    8,  106,    5,    4, 2223, 5244,\n",
       "         16,  480,   66, 3785,   33,    4,  130,   12,   16,   38,  619,\n",
       "          5,   25,  124,   51,   36,  135,   48,   25, 1415,   33,    6,\n",
       "         22,   12,  215,   28,   77,   52,    5,   14,  407,   16,   82,\n",
       "          2,    8,    4,  107,  117, 5952,   15,  256,    4,    2,    7,\n",
       "       3766,    5,  723,   36,   71,   43,  530,  476,   26,  400,  317,\n",
       "         46,    7,    4,    2, 1029,   13,  104,   88,    4,  381,   15,\n",
       "        297,   98,   32, 2071,   56,   26,  141,    6,  194, 7486,   18,\n",
       "          4,  226,   22,   21,  134,  476,   26,  480,    5,  144,   30,\n",
       "       5535,   18,   51,   36,   28,  224,   92,   25,  104,    4,  226,\n",
       "         65,   16,   38, 1334,   88,   12,   16,  283,    5,   16, 4472,\n",
       "        113,  103,   32,   15,   16, 5345,   19,  178,   32,    0,    0,\n",
       "          0,    0,    0,    0,    0,    0,    0,    0,    0,    0,    0,\n",
       "          0,    0,    0,    0,    0,    0,    0,    0,    0,    0,    0,\n",
       "          0,    0,    0,    0,    0,    0,    0,    0,    0,    0,    0,\n",
       "          0,    0,    0], dtype=int32)"
      ]
     },
     "execution_count": 76,
     "metadata": {},
     "output_type": "execute_result"
    }
   ],
   "source": [
    "trainData[0]"
   ]
  },
  {
   "cell_type": "code",
   "execution_count": null,
   "id": "f5aaa50d",
   "metadata": {},
   "outputs": [],
   "source": []
  }
 ],
 "metadata": {
  "kernelspec": {
   "display_name": "Python 3.9.1 64-bit ('sample': pyenv)",
   "language": "python",
   "name": "python391jvsc74a57bd0773aa9f3524f880abffde38f315601b0df34259410fd78def79465716d0b424b"
  },
  "language_info": {
   "codemirror_mode": {
    "name": "ipython",
    "version": 3
   },
   "file_extension": ".py",
   "mimetype": "text/x-python",
   "name": "python",
   "nbconvert_exporter": "python",
   "pygments_lexer": "ipython3",
   "version": "3.9.1"
  }
 },
 "nbformat": 4,
 "nbformat_minor": 5
}
