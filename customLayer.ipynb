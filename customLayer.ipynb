{
 "cells": [
  {
   "cell_type": "code",
   "execution_count": 1,
   "id": "9be6670d",
   "metadata": {},
   "outputs": [],
   "source": [
    "import numpy\n",
    "import tensorflow as tf\n",
    "from tensorflow import keras\n",
    "from keras.models import Sequential,Model\n",
    "import pandas as pd\n",
    "import pydot\n",
    "import matplotlib.pyplot as plt\n",
    "from keras.layers import Input,Flatten,Dense,Lambda,Layer\n",
    "from keras import backend as K\n",
    "import numpy as np\n"
   ]
  },
  {
   "cell_type": "code",
   "execution_count": 2,
   "id": "8816ab07",
   "metadata": {},
   "outputs": [],
   "source": [
    "(x_train,y_train),(x_test,y_test)=keras.datasets.mnist.load_data()\n",
    "x_train,x_test=x_train/255.0,x_test/255.0"
   ]
  },
  {
   "cell_type": "markdown",
   "id": "cdf88e0a",
   "metadata": {},
   "source": [
    "# Custom Layer"
   ]
  },
  {
   "cell_type": "code",
   "execution_count": 16,
   "id": "fc1d33ff",
   "metadata": {},
   "outputs": [],
   "source": [
    "class SimpleDense(Layer):\n",
    "    #init will initialise the class that accepts the parameters\n",
    "    #and sets up internal variables\n",
    "    def __init__(self,units=32):\n",
    "        super(SimpleDense,self).__init__()\n",
    "        self.units=units\n",
    "    #build will run when instance is created. Used to specify \n",
    "    #local input states \n",
    "    def build(self,input_shape):\n",
    "        w_init=tf.random_normal_initializer()\n",
    "        self.w=tf.Variable(name=\"kernel\",\n",
    "                           initial_value=w_init(shape=(input_shape[-1],self.units),dtype=\"float32\"),\n",
    "                          trainable=True)\n",
    "        b_init=tf.zeros_initializer()\n",
    "        self.b=tf.Variable(name=\"bias\",\n",
    "                      initial_value=b_init(shape=(self.units,),dtype=\"float32\"),\n",
    "                      trainable=True)\n",
    "    def call(self,inputs):\n",
    "        return tf.matmul(inputs,self.w)+self.b\n",
    "    "
   ]
  },
  {
   "cell_type": "code",
   "execution_count": 17,
   "id": "cec40067",
   "metadata": {},
   "outputs": [
    {
     "name": "stdout",
     "output_type": "stream",
     "text": [
      "[<tf.Variable 'simple_dense_6/kernel:0' shape=(1, 1) dtype=float32, numpy=array([[0.04396357]], dtype=float32)>, <tf.Variable 'simple_dense_6/bias:0' shape=(1, 1) dtype=float32, numpy=array([[0.]], dtype=float32)>]\n"
     ]
    }
   ],
   "source": [
    "myDense=SimpleDense(units=1)\n",
    "x=tf.ones((1,1))\n",
    "y=myDense(x)\n",
    "print(myDense.variables)"
   ]
  },
  {
   "cell_type": "markdown",
   "id": "72d3f443",
   "metadata": {},
   "source": [
    "# Custom Layer Model"
   ]
  },
  {
   "cell_type": "code",
   "execution_count": 18,
   "id": "09c9a643",
   "metadata": {},
   "outputs": [],
   "source": [
    "x=np.array([-1.0,0.0,1.0,2.0,3.0,4.0],dtype=float)\n",
    "y=np.array([-3.0,-1.0,1.0,3.0,5.0,7.0],dtype=float)"
   ]
  },
  {
   "cell_type": "code",
   "execution_count": 22,
   "id": "ca68cc1f",
   "metadata": {},
   "outputs": [
    {
     "data": {
      "text/plain": [
       "<keras.callbacks.History at 0x148aba1c0>"
      ]
     },
     "execution_count": 22,
     "metadata": {},
     "output_type": "execute_result"
    }
   ],
   "source": [
    "myLayer=SimpleDense(units=1)\n",
    "model=Sequential([myLayer])\n",
    "model.compile(loss='mse',optimizer='sgd')\n",
    "model.fit(x,y,epochs=500,verbose=0)"
   ]
  },
  {
   "cell_type": "code",
   "execution_count": 23,
   "id": "d0e01dcc",
   "metadata": {},
   "outputs": [
    {
     "name": "stdout",
     "output_type": "stream",
     "text": [
      "[[18.981436]]\n",
      "[<tf.Variable 'simple_dense_8/kernel:0' shape=(1, 1) dtype=float32, numpy=array([[1.9973093]], dtype=float32)>, <tf.Variable 'simple_dense_8/bias:0' shape=(1, 1) dtype=float32, numpy=array([[-0.99165815]], dtype=float32)>]\n"
     ]
    }
   ],
   "source": [
    "print(model.predict([10.0]))\n",
    "print(myLayer.variables)"
   ]
  },
  {
   "cell_type": "markdown",
   "id": "37f1031a",
   "metadata": {},
   "source": [
    "# Custom Layer with Activation"
   ]
  },
  {
   "cell_type": "code",
   "execution_count": 28,
   "id": "67982df3",
   "metadata": {},
   "outputs": [],
   "source": [
    "class SimpleDenseActivation(Layer):\n",
    "    #init will initialise the class that accepts the parameters\n",
    "    #and sets up internal variables\n",
    "    def __init__(self,units=32,activation=None):\n",
    "        super(SimpleDenseActivation,self).__init__()\n",
    "        self.units=units\n",
    "        self.activation=tf.keras.activations.get(activation)\n",
    "    #build will run when instance is created. Used to specify \n",
    "    #local input states \n",
    "    def build(self,input_shape):\n",
    "        w_init=tf.random_normal_initializer()\n",
    "        self.w=tf.Variable(name=\"kernel\",\n",
    "                           initial_value=w_init(shape=(input_shape[-1],self.units),dtype=\"float32\"),\n",
    "                          trainable=True)\n",
    "        b_init=tf.zeros_initializer()\n",
    "        self.b=tf.Variable(name=\"bias\",\n",
    "                      initial_value=b_init(shape=(self.units,),dtype=\"float32\"),\n",
    "                      trainable=True)\n",
    "#         super().build(input_shape)\n",
    "    def call(self,inputs):\n",
    "        return self.activation(tf.matmul(inputs,self.w)+self.b)\n",
    "    "
   ]
  },
  {
   "cell_type": "code",
   "execution_count": 31,
   "id": "5fba0404",
   "metadata": {},
   "outputs": [
    {
     "name": "stdout",
     "output_type": "stream",
     "text": [
      "Epoch 1/5\n",
      "1875/1875 [==============================] - 6s 3ms/step - loss: 0.5446 - accuracy: 0.8516\n",
      "Epoch 2/5\n",
      "1875/1875 [==============================] - 5s 3ms/step - loss: 0.1622 - accuracy: 0.9520\n",
      "Epoch 3/5\n",
      "1875/1875 [==============================] - 5s 3ms/step - loss: 0.1137 - accuracy: 0.9670\n",
      "Epoch 4/5\n",
      "1875/1875 [==============================] - 5s 3ms/step - loss: 0.0947 - accuracy: 0.9714\n",
      "Epoch 5/5\n",
      "1875/1875 [==============================] - 5s 3ms/step - loss: 0.0763 - accuracy: 0.9761\n",
      "313/313 [==============================] - 1s 2ms/step - loss: 0.0760 - accuracy: 0.9774\n"
     ]
    },
    {
     "data": {
      "text/plain": [
       "[0.07595747709274292, 0.977400004863739]"
      ]
     },
     "execution_count": 31,
     "metadata": {},
     "output_type": "execute_result"
    }
   ],
   "source": [
    "model=Sequential([\n",
    "    Flatten(input_shape=[28,28]),\n",
    "    SimpleDenseActivation(units=128,activation='relu'),\n",
    "    tf.keras.layers.Dropout(0.2),\n",
    "    SimpleDenseActivation(units=10,activation='softmax')\n",
    "])\n",
    "model.compile(optimizer='adam',loss='sparse_categorical_crossentropy',metrics=['accuracy'])\n",
    "model.fit(x_train,y_train,epochs=5)\n",
    "model.evaluate(x_test,y_test)"
   ]
  },
  {
   "cell_type": "code",
   "execution_count": 32,
   "id": "7eb89e27",
   "metadata": {},
   "outputs": [
    {
     "name": "stdout",
     "output_type": "stream",
     "text": [
      "Model: \"sequential_4\"\n",
      "_________________________________________________________________\n",
      "Layer (type)                 Output Shape              Param #   \n",
      "=================================================================\n",
      "flatten_3 (Flatten)          (None, 784)               0         \n",
      "_________________________________________________________________\n",
      "simple_dense_activation_2 (S (None, 128)               100480    \n",
      "_________________________________________________________________\n",
      "module_wrapper_2 (ModuleWrap (None, 128)               0         \n",
      "_________________________________________________________________\n",
      "simple_dense_activation_3 (S (None, 10)                1290      \n",
      "=================================================================\n",
      "Total params: 101,770\n",
      "Trainable params: 101,770\n",
      "Non-trainable params: 0\n",
      "_________________________________________________________________\n"
     ]
    }
   ],
   "source": [
    "model.summary()"
   ]
  },
  {
   "cell_type": "code",
   "execution_count": null,
   "id": "e2f0797d",
   "metadata": {},
   "outputs": [],
   "source": []
  }
 ],
 "metadata": {
  "kernelspec": {
   "display_name": "Sample",
   "language": "python",
   "name": "sample"
  },
  "language_info": {
   "codemirror_mode": {
    "name": "ipython",
    "version": 3
   },
   "file_extension": ".py",
   "mimetype": "text/x-python",
   "name": "python",
   "nbconvert_exporter": "python",
   "pygments_lexer": "ipython3",
   "version": "3.9.1"
  }
 },
 "nbformat": 4,
 "nbformat_minor": 5
}
