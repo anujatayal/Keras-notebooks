{
 "cells": [
  {
   "cell_type": "code",
   "execution_count": 2,
   "id": "4c6b633a",
   "metadata": {},
   "outputs": [],
   "source": [
    "import tensorflow as tf"
   ]
  },
  {
   "cell_type": "markdown",
   "id": "331d7af9",
   "metadata": {},
   "source": [
    "# Binary CrossEntropy-"
   ]
  },
  {
   "cell_type": "code",
   "execution_count": 1,
   "id": "ea0d2638",
   "metadata": {},
   "outputs": [],
   "source": [
    "# batchSize=1\n",
    "y_true=[0,1,0,0]\n",
    "y_pred=[-18.6,0.51,2.94,-12.8]"
   ]
  },
  {
   "cell_type": "code",
   "execution_count": 3,
   "id": "f8a14d0a",
   "metadata": {},
   "outputs": [],
   "source": [
    "bce=tf.keras.losses.BinaryCrossentropy(from_logits=True)\n",
    "bce(y_true,y_pred)"
   ]
  },
  {
   "cell_type": "code",
   "execution_count": 14,
   "id": "19aa5a4b",
   "metadata": {},
   "outputs": [],
   "source": [
    "#batch_size=2\n",
    "y_true=[[0,1],[0,0]]\n",
    "y_pred=[[-18.6,0.51],[2.94,-12.8]]\n",
    "bce(y_true,y_pred)"
   ]
  },
  {
   "cell_type": "code",
   "execution_count": 7,
   "id": "9059a9ee",
   "metadata": {},
   "outputs": [
    {
     "data": {
      "text/plain": [
       "1.730916"
      ]
     },
     "execution_count": 7,
     "metadata": {},
     "output_type": "execute_result"
    }
   ],
   "source": [
    "#Reduction Sum\n",
    "bce = tf.keras.losses.BinaryCrossentropy(from_logits=True,\n",
    "    reduction=tf.keras.losses.Reduction.SUM)\n",
    "bce(y_true, y_pred).numpy()"
   ]
  },
  {
   "cell_type": "code",
   "execution_count": 19,
   "id": "f51077fd",
   "metadata": {},
   "outputs": [],
   "source": [
    "#Logits=False\n",
    "y_true=[[0,1],[0,0]]\n",
    "y_pred=[[0.6,0.3],[0.2,0.8]]\n",
    "bce=tf.keras.losses.BinaryCrossentropy(from_logits=False)\n",
    "bce(y_true,y_pred)"
   ]
  },
  {
   "cell_type": "markdown",
   "id": "f5d03707",
   "metadata": {},
   "source": [
    "# Categorical CrossEntropy"
   ]
  },
  {
   "cell_type": "code",
   "execution_count": 22,
   "id": "49d5e9cf",
   "metadata": {},
   "outputs": [
    {
     "data": {
      "text/plain": [
       "<tf.Tensor: shape=(), dtype=float32, numpy=1.1769392>"
      ]
     },
     "execution_count": 22,
     "metadata": {},
     "output_type": "execute_result"
    }
   ],
   "source": [
    "#y_true/y_pred=[batch_size,num_classes]\n",
    "y_true=[[0,1,0],[0,0,1]]\n",
    "y_pred=[[0.05,0.95,0],[0.1,0.8,0.1]]\n",
    "cce=tf.keras.losses.CategoricalCrossentropy()\n",
    "cce(y_true,y_pred)"
   ]
  },
  {
   "cell_type": "markdown",
   "id": "ef13f6a1",
   "metadata": {},
   "source": [
    "# Sparse Categorical Cross Entropy"
   ]
  },
  {
   "cell_type": "code",
   "execution_count": 23,
   "id": "3d5b0c7e",
   "metadata": {},
   "outputs": [
    {
     "data": {
      "text/plain": [
       "<tf.Tensor: shape=(), dtype=float32, numpy=1.1769392>"
      ]
     },
     "execution_count": 23,
     "metadata": {},
     "output_type": "execute_result"
    }
   ],
   "source": [
    "y_true=[1,2]\n",
    "scce=tf.keras.losses.SparseCategoricalCrossentropy()\n",
    "scce(y_true,y_pred)"
   ]
  },
  {
   "cell_type": "markdown",
   "id": "aaaaba71",
   "metadata": {},
   "source": [
    "# MeanAbsolute Error"
   ]
  },
  {
   "cell_type": "code",
   "execution_count": 30,
   "id": "ba64d664",
   "metadata": {},
   "outputs": [
    {
     "data": {
      "text/plain": [
       "<tf.Tensor: shape=(), dtype=float32, numpy=0.75>"
      ]
     },
     "execution_count": 30,
     "metadata": {},
     "output_type": "execute_result"
    }
   ],
   "source": [
    "y_true=[[0.,0.],[0.,0.]]\n",
    "y_pred=[[1.,1.],[1.,0.]]\n",
    "mae=tf.keras.losses.MeanAbsoluteError()\n",
    "mae(y_true,y_pred)"
   ]
  },
  {
   "cell_type": "code",
   "execution_count": 28,
   "id": "4280e05b",
   "metadata": {},
   "outputs": [
    {
     "data": {
      "text/plain": [
       "<tf.Tensor: shape=(), dtype=int32, numpy=0>"
      ]
     },
     "execution_count": 28,
     "metadata": {},
     "output_type": "execute_result"
    }
   ],
   "source": [
    "y_true=[[0.,1],[0,0]]\n",
    "y_pred=[[1,1],[1,0]]\n",
    "mae=tf.keras.losses.MeanAbsoluteError()\n",
    "mae(y_true,y_pred)"
   ]
  },
  {
   "cell_type": "code",
   "execution_count": null,
   "id": "0af2ecc1",
   "metadata": {},
   "outputs": [],
   "source": []
  },
  {
   "cell_type": "code",
   "execution_count": null,
   "id": "88a8a3f0",
   "metadata": {},
   "outputs": [],
   "source": []
  }
 ],
 "metadata": {
  "kernelspec": {
   "display_name": "Python 3.9.1 64-bit ('sample': pyenv)",
   "language": "python",
   "name": "python391jvsc74a57bd0773aa9f3524f880abffde38f315601b0df34259410fd78def79465716d0b424b"
  },
  "language_info": {
   "codemirror_mode": {
    "name": "ipython",
    "version": 3
   },
   "file_extension": ".py",
   "mimetype": "text/x-python",
   "name": "python",
   "nbconvert_exporter": "python",
   "pygments_lexer": "ipython3",
   "version": "3.9.1"
  }
 },
 "nbformat": 4,
 "nbformat_minor": 5
}
